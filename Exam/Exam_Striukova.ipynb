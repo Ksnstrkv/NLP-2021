{
 "cells": [
  {
   "cell_type": "markdown",
   "id": "239bb5d9-838d-4345-8e81-59ce53e2c064",
   "metadata": {},
   "source": [
    "# Практичне завдання з дисципліни Методи обробки природномовної інформації\n",
    "\n",
    "Варіант 111\n",
    "\n",
    "\n",
    "Завдання:\n",
    "\n",
    "Розробити Jupyter Notebook для вирішення завдання класифікації тексту\n",
    "на основі набору даних:\n",
    "[link]\n",
    "\n",
    "Забезпечити виконання наступних етапів:\n",
    "\n",
    "1. Завантаження та попередній аналіз даних.\n",
    "2. Створення тренувального та тестувального наборів даних.\n",
    "3. Попередню оцінку точності моделі за допомогою методу Naive Bayes.\n",
    "4. Вирішення задачі класифікації за допомогою методу [method].\n",
    "5. Графічне відображення тренування моделі.\n",
    "6. Порівняння результатів, отриманих у п.п. 3,4\n",
    "7. Висновки.\n"
   ]
  },
  {
   "cell_type": "markdown",
   "id": "8b455e8e-5ce2-4202-97f0-4a34c2e17015",
   "metadata": {},
   "source": [
    "# 1. Завантаження та попередній аналіз даних."
   ]
  },
  {
   "cell_type": "code",
   "execution_count": 1,
   "id": "bd6609a5-4013-4c8c-9fc7-77c84bbaa2ae",
   "metadata": {},
   "outputs": [
    {
     "name": "stderr",
     "output_type": "stream",
     "text": [
      "2021-12-13 12:00:46.364048: W tensorflow/stream_executor/platform/default/dso_loader.cc:64] Could not load dynamic library 'libcudart.so.11.0'; dlerror: libcudart.so.11.0: cannot open shared object file: No such file or directory\n",
      "2021-12-13 12:00:46.364070: I tensorflow/stream_executor/cuda/cudart_stub.cc:29] Ignore above cudart dlerror if you do not have a GPU set up on your machine.\n"
     ]
    }
   ],
   "source": [
    "# імпортуємо необхідні бібліотеки\n",
    "import tensorflow as tf, requests as rqst, io\n",
    "import numpy as np\n",
    "import pandas as pd\n",
    "import random\n",
    "from tensorflow.keras.layers.experimental.preprocessing import TextVectorization\n",
    "from tensorflow.keras import layers"
   ]
  },
  {
   "cell_type": "markdown",
   "id": "26741fa8-499a-42ba-a81a-ae182346e9a1",
   "metadata": {},
   "source": [
    "# 2. Створення тренувального та тестувального наборів даних.\n"
   ]
  },
  {
   "cell_type": "code",
   "execution_count": 2,
   "id": "42488c7c-48e0-44ba-ba0e-9779bb8e6d19",
   "metadata": {},
   "outputs": [],
   "source": [
    "file = open('train.csv','r')\n",
    "new_file = open('train_df.csv', 'w')\n",
    "for i, line in enumerate(file):\n",
    "  if i>930 and i<940:\n",
    "    continue\n",
    "  new_file.write(line)"
   ]
  },
  {
   "cell_type": "code",
   "execution_count": 3,
   "id": "ef236d20-0554-4e5d-be84-63af8a44e31d",
   "metadata": {},
   "outputs": [
    {
     "data": {
      "text/html": [
       "<div>\n",
       "<style scoped>\n",
       "    .dataframe tbody tr th:only-of-type {\n",
       "        vertical-align: middle;\n",
       "    }\n",
       "\n",
       "    .dataframe tbody tr th {\n",
       "        vertical-align: top;\n",
       "    }\n",
       "\n",
       "    .dataframe thead th {\n",
       "        text-align: right;\n",
       "    }\n",
       "</style>\n",
       "<table border=\"1\" class=\"dataframe\">\n",
       "  <thead>\n",
       "    <tr style=\"text-align: right;\">\n",
       "      <th></th>\n",
       "      <th>Id</th>\n",
       "      <th>Title</th>\n",
       "      <th>Body</th>\n",
       "      <th>Tags</th>\n",
       "      <th>CreationDate</th>\n",
       "      <th>Y</th>\n",
       "    </tr>\n",
       "  </thead>\n",
       "  <tbody>\n",
       "    <tr>\n",
       "      <th>0</th>\n",
       "      <td>34552656</td>\n",
       "      <td>Java: Repeat Task Every Random Seconds</td>\n",
       "      <td>&lt;p&gt;I'm already familiar with repeating tasks e...</td>\n",
       "      <td>&lt;java&gt;&lt;repeat&gt;</td>\n",
       "      <td>2016-01-01 00:21:59</td>\n",
       "      <td>LQ_CLOSE</td>\n",
       "    </tr>\n",
       "    <tr>\n",
       "      <th>1</th>\n",
       "      <td>34553034</td>\n",
       "      <td>Why are Java Optionals immutable?</td>\n",
       "      <td>&lt;p&gt;I'd like to understand why Java 8 Optionals...</td>\n",
       "      <td>&lt;java&gt;&lt;optional&gt;</td>\n",
       "      <td>2016-01-01 02:03:20</td>\n",
       "      <td>HQ</td>\n",
       "    </tr>\n",
       "    <tr>\n",
       "      <th>2</th>\n",
       "      <td>34553174</td>\n",
       "      <td>Text Overlay Image with Darkened Opacity React...</td>\n",
       "      <td>&lt;p&gt;I am attempting to overlay a title over an ...</td>\n",
       "      <td>&lt;javascript&gt;&lt;image&gt;&lt;overlay&gt;&lt;react-native&gt;&lt;opa...</td>\n",
       "      <td>2016-01-01 02:48:24</td>\n",
       "      <td>HQ</td>\n",
       "    </tr>\n",
       "    <tr>\n",
       "      <th>3</th>\n",
       "      <td>34553318</td>\n",
       "      <td>Why ternary operator in swift is so picky?</td>\n",
       "      <td>&lt;p&gt;The question is very simple, but I just cou...</td>\n",
       "      <td>&lt;swift&gt;&lt;operators&gt;&lt;whitespace&gt;&lt;ternary-operato...</td>\n",
       "      <td>2016-01-01 03:30:17</td>\n",
       "      <td>HQ</td>\n",
       "    </tr>\n",
       "    <tr>\n",
       "      <th>4</th>\n",
       "      <td>34553755</td>\n",
       "      <td>hide/show fab with scale animation</td>\n",
       "      <td>&lt;p&gt;I'm using custom floatingactionmenu. I need...</td>\n",
       "      <td>&lt;android&gt;&lt;material-design&gt;&lt;floating-action-but...</td>\n",
       "      <td>2016-01-01 05:21:48</td>\n",
       "      <td>HQ</td>\n",
       "    </tr>\n",
       "    <tr>\n",
       "      <th>...</th>\n",
       "      <td>...</td>\n",
       "      <td>...</td>\n",
       "      <td>...</td>\n",
       "      <td>...</td>\n",
       "      <td>...</td>\n",
       "      <td>...</td>\n",
       "    </tr>\n",
       "    <tr>\n",
       "      <th>44995</th>\n",
       "      <td>60461435</td>\n",
       "      <td>Convert List&lt;String&gt; to string C# - asp.net - ...</td>\n",
       "      <td>&lt;p&gt;I am new to this and I am asking for help t...</td>\n",
       "      <td>&lt;c#&gt;&lt;asp.net&gt;&lt;sql-server&gt;</td>\n",
       "      <td>2020-02-29 02:22:18</td>\n",
       "      <td>LQ_CLOSE</td>\n",
       "    </tr>\n",
       "    <tr>\n",
       "      <th>44996</th>\n",
       "      <td>60461754</td>\n",
       "      <td>Does Python execute code from the top or botto...</td>\n",
       "      <td>&lt;p&gt;I am working on learning Python and was won...</td>\n",
       "      <td>&lt;python&gt;</td>\n",
       "      <td>2020-02-29 03:33:59</td>\n",
       "      <td>LQ_CLOSE</td>\n",
       "    </tr>\n",
       "    <tr>\n",
       "      <th>44997</th>\n",
       "      <td>60462001</td>\n",
       "      <td>how to change payment date in Azure?</td>\n",
       "      <td>&lt;p&gt;It looks like it costs 8 days per month in ...</td>\n",
       "      <td>&lt;azure&gt;&lt;billing&gt;</td>\n",
       "      <td>2020-02-29 04:34:16</td>\n",
       "      <td>LQ_CLOSE</td>\n",
       "    </tr>\n",
       "    <tr>\n",
       "      <th>44998</th>\n",
       "      <td>60465318</td>\n",
       "      <td>how to implement fill in the blank in Swift</td>\n",
       "      <td>&lt;p&gt;\"I _____ any questions.\"&lt;/p&gt;\\n\\n&lt;p&gt;I want t...</td>\n",
       "      <td>&lt;ios&gt;&lt;swift&gt;</td>\n",
       "      <td>2020-02-29 12:50:43</td>\n",
       "      <td>LQ_CLOSE</td>\n",
       "    </tr>\n",
       "    <tr>\n",
       "      <th>44999</th>\n",
       "      <td>60468018</td>\n",
       "      <td>How can I make a c# application outside of vis...</td>\n",
       "      <td>&lt;p&gt;I'm very new to programming and I'm teachin...</td>\n",
       "      <td>&lt;c#&gt;&lt;visual-studio&gt;</td>\n",
       "      <td>2020-02-29 17:55:56</td>\n",
       "      <td>LQ_CLOSE</td>\n",
       "    </tr>\n",
       "  </tbody>\n",
       "</table>\n",
       "<p>45000 rows × 6 columns</p>\n",
       "</div>"
      ],
      "text/plain": [
       "             Id                                              Title  \\\n",
       "0      34552656             Java: Repeat Task Every Random Seconds   \n",
       "1      34553034                  Why are Java Optionals immutable?   \n",
       "2      34553174  Text Overlay Image with Darkened Opacity React...   \n",
       "3      34553318         Why ternary operator in swift is so picky?   \n",
       "4      34553755                 hide/show fab with scale animation   \n",
       "...         ...                                                ...   \n",
       "44995  60461435  Convert List<String> to string C# - asp.net - ...   \n",
       "44996  60461754  Does Python execute code from the top or botto...   \n",
       "44997  60462001               how to change payment date in Azure?   \n",
       "44998  60465318        how to implement fill in the blank in Swift   \n",
       "44999  60468018  How can I make a c# application outside of vis...   \n",
       "\n",
       "                                                    Body  \\\n",
       "0      <p>I'm already familiar with repeating tasks e...   \n",
       "1      <p>I'd like to understand why Java 8 Optionals...   \n",
       "2      <p>I am attempting to overlay a title over an ...   \n",
       "3      <p>The question is very simple, but I just cou...   \n",
       "4      <p>I'm using custom floatingactionmenu. I need...   \n",
       "...                                                  ...   \n",
       "44995  <p>I am new to this and I am asking for help t...   \n",
       "44996  <p>I am working on learning Python and was won...   \n",
       "44997  <p>It looks like it costs 8 days per month in ...   \n",
       "44998  <p>\"I _____ any questions.\"</p>\\n\\n<p>I want t...   \n",
       "44999  <p>I'm very new to programming and I'm teachin...   \n",
       "\n",
       "                                                    Tags         CreationDate  \\\n",
       "0                                         <java><repeat>  2016-01-01 00:21:59   \n",
       "1                                       <java><optional>  2016-01-01 02:03:20   \n",
       "2      <javascript><image><overlay><react-native><opa...  2016-01-01 02:48:24   \n",
       "3      <swift><operators><whitespace><ternary-operato...  2016-01-01 03:30:17   \n",
       "4      <android><material-design><floating-action-but...  2016-01-01 05:21:48   \n",
       "...                                                  ...                  ...   \n",
       "44995                          <c#><asp.net><sql-server>  2020-02-29 02:22:18   \n",
       "44996                                           <python>  2020-02-29 03:33:59   \n",
       "44997                                   <azure><billing>  2020-02-29 04:34:16   \n",
       "44998                                       <ios><swift>  2020-02-29 12:50:43   \n",
       "44999                                <c#><visual-studio>  2020-02-29 17:55:56   \n",
       "\n",
       "              Y  \n",
       "0      LQ_CLOSE  \n",
       "1            HQ  \n",
       "2            HQ  \n",
       "3            HQ  \n",
       "4            HQ  \n",
       "...         ...  \n",
       "44995  LQ_CLOSE  \n",
       "44996  LQ_CLOSE  \n",
       "44997  LQ_CLOSE  \n",
       "44998  LQ_CLOSE  \n",
       "44999  LQ_CLOSE  \n",
       "\n",
       "[45000 rows x 6 columns]"
      ]
     },
     "execution_count": 3,
     "metadata": {},
     "output_type": "execute_result"
    }
   ],
   "source": [
    "train_df = pd.read_csv('train.csv')\n",
    "val_df = pd.read_csv('valid.csv')\n",
    "train_df"
   ]
  },
  {
   "cell_type": "code",
   "execution_count": 4,
   "id": "1a9c8363-0894-4c03-8bf8-29b994f1d08e",
   "metadata": {},
   "outputs": [],
   "source": [
    "train_df['Target'] = train_df['Y']\n",
    "val_df['Target'] = val_df['Y']\n",
    "\n",
    "train_df.replace({'Target':{'LQ_EDIT':0,'HQ':1, 'LQ_CLOSE':2}}, inplace=True)\n",
    "val_df.replace({'Target':{'LQ_EDIT':0,'HQ':1, 'LQ_CLOSE':2}}, inplace=True)"
   ]
  },
  {
   "cell_type": "code",
   "execution_count": 5,
   "id": "f8d69f92-7bd5-4346-a1f1-755eb1a0fc68",
   "metadata": {},
   "outputs": [
    {
     "data": {
      "text/html": [
       "<div>\n",
       "<style scoped>\n",
       "    .dataframe tbody tr th:only-of-type {\n",
       "        vertical-align: middle;\n",
       "    }\n",
       "\n",
       "    .dataframe tbody tr th {\n",
       "        vertical-align: top;\n",
       "    }\n",
       "\n",
       "    .dataframe thead th {\n",
       "        text-align: right;\n",
       "    }\n",
       "</style>\n",
       "<table border=\"1\" class=\"dataframe\">\n",
       "  <thead>\n",
       "    <tr style=\"text-align: right;\">\n",
       "      <th></th>\n",
       "      <th>Body</th>\n",
       "      <th>Target</th>\n",
       "    </tr>\n",
       "  </thead>\n",
       "  <tbody>\n",
       "    <tr>\n",
       "      <th>1716</th>\n",
       "      <td>&lt;p&gt;I try to use date() function&lt;/p&gt;\\n\\n&lt;p&gt;But ...</td>\n",
       "      <td>2</td>\n",
       "    </tr>\n",
       "    <tr>\n",
       "      <th>37861</th>\n",
       "      <td># TL;DR:\\r\\n\\r\\nSurely somebody has written, a...</td>\n",
       "      <td>0</td>\n",
       "    </tr>\n",
       "    <tr>\n",
       "      <th>4020</th>\n",
       "      <td>&lt;p&gt;[!] Unable to satisfy the following require...</td>\n",
       "      <td>1</td>\n",
       "    </tr>\n",
       "    <tr>\n",
       "      <th>40532</th>\n",
       "      <td>&lt;p&gt;Is there a way to append a variable amount ...</td>\n",
       "      <td>2</td>\n",
       "    </tr>\n",
       "    <tr>\n",
       "      <th>38597</th>\n",
       "      <td>&lt;p&gt;i am very confuse about this simple code.\\n...</td>\n",
       "      <td>2</td>\n",
       "    </tr>\n",
       "    <tr>\n",
       "      <th>...</th>\n",
       "      <td>...</td>\n",
       "      <td>...</td>\n",
       "    </tr>\n",
       "    <tr>\n",
       "      <th>34898</th>\n",
       "      <td>&lt;p&gt;I did the exact same thing in another part ...</td>\n",
       "      <td>2</td>\n",
       "    </tr>\n",
       "    <tr>\n",
       "      <th>3895</th>\n",
       "      <td>&lt;p&gt;I am very new to this IP block thing so ple...</td>\n",
       "      <td>2</td>\n",
       "    </tr>\n",
       "    <tr>\n",
       "      <th>31521</th>\n",
       "      <td>&lt;p&gt;&lt;strong&gt;How can we load test Firebase Realt...</td>\n",
       "      <td>1</td>\n",
       "    </tr>\n",
       "    <tr>\n",
       "      <th>1327</th>\n",
       "      <td>i have a code :\\r\\nSELECT pegawai.Nama, pegawa...</td>\n",
       "      <td>0</td>\n",
       "    </tr>\n",
       "    <tr>\n",
       "      <th>39995</th>\n",
       "      <td>&lt;p&gt;I inherited some code in a React Native cod...</td>\n",
       "      <td>2</td>\n",
       "    </tr>\n",
       "  </tbody>\n",
       "</table>\n",
       "<p>45000 rows × 2 columns</p>\n",
       "</div>"
      ],
      "text/plain": [
       "                                                    Body  Target\n",
       "1716   <p>I try to use date() function</p>\\n\\n<p>But ...       2\n",
       "37861  # TL;DR:\\r\\n\\r\\nSurely somebody has written, a...       0\n",
       "4020   <p>[!] Unable to satisfy the following require...       1\n",
       "40532  <p>Is there a way to append a variable amount ...       2\n",
       "38597  <p>i am very confuse about this simple code.\\n...       2\n",
       "...                                                  ...     ...\n",
       "34898  <p>I did the exact same thing in another part ...       2\n",
       "3895   <p>I am very new to this IP block thing so ple...       2\n",
       "31521  <p><strong>How can we load test Firebase Realt...       1\n",
       "1327   i have a code :\\r\\nSELECT pegawai.Nama, pegawa...       0\n",
       "39995  <p>I inherited some code in a React Native cod...       2\n",
       "\n",
       "[45000 rows x 2 columns]"
      ]
     },
     "execution_count": 5,
     "metadata": {},
     "output_type": "execute_result"
    }
   ],
   "source": [
    "#creating training ang testing sets\n",
    "train_set = train_df[['Body','Target']].sample(frac=1)\n",
    "test_set = val_df[['Body','Target']].sample(frac=1)\n",
    "train_set"
   ]
  },
  {
   "cell_type": "code",
   "execution_count": 6,
   "id": "6418f138-4017-4429-87a5-99e99f49f390",
   "metadata": {},
   "outputs": [
    {
     "name": "stdout",
     "output_type": "stream",
     "text": [
      "Total train samples: 45000\n",
      "Total test samples: 15000\n",
      "Total  samples: 60000\n"
     ]
    }
   ],
   "source": [
    "print(f\"Total train samples: {len(train_set)}\")\n",
    "print(f\"Total test samples: {len(test_set)}\")\n",
    "print(f\"Total  samples: {len(train_set)+len(test_set)}\")"
   ]
  },
  {
   "cell_type": "markdown",
   "id": "2124596c-87ab-4ffa-b874-3f083cf77043",
   "metadata": {},
   "source": [
    "# 3. Попередня оцінка точності моделі за допомогою методу Naive Bayes."
   ]
  },
  {
   "cell_type": "code",
   "execution_count": 7,
   "id": "ead52a43-d417-4eeb-bf4f-be10635aacd3",
   "metadata": {},
   "outputs": [
    {
     "name": "stdout",
     "output_type": "stream",
     "text": [
      "Pandas(Index=4154, Body='<p>In the default <code>_Layout.cshtml</code> file, scripts are defined in \"environment\"s like so:</p>\\n\\n<pre><code>&lt;environment names=\"Development\"&gt;\\n     &lt;script src=\"~/lib/jquery/dist/jquery.js\"&gt;&lt;/script&gt;\\n     &lt;script src=\"~/lib/bootstrap/dist/js/bootstrap.js\"&gt;&lt;/script&gt;\\n     &lt;script src=\"~/js/site.js\" asp-append-version=\"true\"&gt;&lt;/script&gt;\\n&lt;/environment&gt;\\n&lt;environment names=\"Staging,Production\"&gt;\\n     &lt;script src=\"https://ajax.aspnetcdn.com/ajax/jquery/jquery-2.1.4.min.js\"\\n                    asp-fallback-src=\"~/lib/jquery/dist/jquery.min.js\"\\n                    asp-fallback-test=\"window.jQuery\"&gt;\\n     &lt;/script&gt;\\n     &lt;script src=\"https://ajax.aspnetcdn.com/ajax/bootstrap/3.3.5/bootstrap.min.js\"\\n                    asp-fallback-src=\"~/lib/bootstrap/dist/js/bootstrap.min.js\"\\n                    asp-fallback-test=\"window.jQuery &amp;&amp; window.jQuery.fn &amp;&amp; window.jQuery.fn.modal\"&gt;\\n     &lt;/script&gt;\\n     &lt;script src=\"~/js/site.min.js\" asp-append-version=\"true\"&gt;&lt;/script&gt;\\n&lt;/environment&gt;\\n</code></pre>\\n\\n<p>And below that is <code>@RenderSection(\"scripts\", required: false)</code></p>\\n\\n<p>I can\\'t seem to implement a section (in this case \"scripts\") in any separate .cshtml file since it looks like they got rid of \"<code>@section</code>\" in Core</p>\\n\\n<p>I would like to add specific scripts for specific views. What is the new way to go about this? Do I just dump everything in <code>_Layout</code> now?</p>\\n', Target=1)\n",
      "Pandas(Index=1033, Body=\"<p>I just wondered if you could answer a question regarding authentication in an enterprise's intranet. We are currently setting up a server for intranet publishing which of course needs protection via an enterprise single sign on.</p>\\n\\n<p>Unfortunately we are stuck with an IIS server as we need to run both PHP and .NET applications. The main app is programmed in PHP, but we have to feature some jQuery included widgets that rely on ASPX handlers.</p>\\n\\n<p>The company offers all types of authentication. We've already successfully protected the server with Shibboleth (using SAML 2.0). It shows the ESO screen to login and then redirects to our server with a logged-in session. Unfortunately the widgets that are referring to the ASPX handlers don't authenticate correctly.</p>\\n\\n<p>I've never done authentication / SAML / WiF / anything, so please excuse my question:</p>\\n\\n<p>What would be the most promising way for authentication with our setup (IIS featuren PHP and ASPX apps)? Should we stick to SAML and Shibboleth or should we use WiF / WS Federation / Windows Authentication?</p>\\n\\n<p>Is it possible to support both PHP and ASPX with one authentication method?</p>\\n\\n<p>Thanks for a response!\\nNik</p>\\n\", Target=1)\n",
      "Pandas(Index=28606, Body='I have next array\\r\\n\\r\\n    [0, 0, 1, 1, 0, 0]\\r\\n\\r\\nOn some condition I have to switch 0 to 1 and vice versa\\r\\n\\r\\nI am new in Switch and came from JS. In JS usually used code like:\\r\\n\\r\\n    array[index] = !array[index]\\r\\n\\r\\nHowever, in swift such coding does not working\\r\\n\\r\\nIs there are an elegant way to do such convert with doing if-> else statements?', Target=0)\n",
      "Pandas(Index=26959, Body=\"<p><strong>Is there a way to export existing CodePipeline/CodeBuild projects to Cloudformation?</strong></p>\\n\\n<p>I'm in the process of converting our existing CI/CD infrastructure into code so it would be easy to replicate them on other AWS regions.</p>\\n\\n<p>Currently, we've done all our CodePipeline/CodeBuild projects through the AWS console in the browser and obviously, this is tedious and error-prone.</p>\\n\", Target=1)\n"
     ]
    }
   ],
   "source": [
    "random_index=random.randint(0, len(train_df)-4)\n",
    "\n",
    "for row in train_set[['Body','Target']][random_index:random_index+4].itertuples():\n",
    "    print(row)"
   ]
  },
  {
   "cell_type": "code",
   "execution_count": 8,
   "id": "fc72781e-c688-4ed2-868f-c4fa0cfadc05",
   "metadata": {},
   "outputs": [],
   "source": [
    "from sklearn.model_selection import train_test_split\n",
    "\n",
    "train_sentences, test_sentences, train_labels,test_labels = train_test_split(\n",
    "    train_set['Body'].to_numpy(),\n",
    "    train_set['Target'].to_numpy(),\n",
    "    test_size=0.1, \n",
    "    random_state=49\n",
    ")"
   ]
  },
  {
   "cell_type": "code",
   "execution_count": 9,
   "id": "2b0d0125-b6ed-46cc-a668-142bba3ac22a",
   "metadata": {},
   "outputs": [
    {
     "data": {
      "text/plain": [
       "(dtype('O'), dtype('int64'))"
      ]
     },
     "execution_count": 9,
     "metadata": {},
     "output_type": "execute_result"
    }
   ],
   "source": [
    "train_sentences.dtype, train_labels.dtype"
   ]
  },
  {
   "cell_type": "code",
   "execution_count": 10,
   "id": "c66859f9-5ddb-4c05-9ef4-1cddc89a72d1",
   "metadata": {},
   "outputs": [
    {
     "data": {
      "text/plain": [
       "(40500, 4500)"
      ]
     },
     "execution_count": 10,
     "metadata": {},
     "output_type": "execute_result"
    }
   ],
   "source": [
    "len(train_sentences), len(test_sentences)"
   ]
  },
  {
   "cell_type": "code",
   "execution_count": 11,
   "id": "c4c3f0b4-31bc-45bd-8d77-8d37bf2f6e7e",
   "metadata": {},
   "outputs": [
    {
     "data": {
      "text/plain": [
       "111"
      ]
     },
     "execution_count": 11,
     "metadata": {},
     "output_type": "execute_result"
    }
   ],
   "source": [
    "avg_length = round(sum([len(i.split()) for i in train_set['Body']])/len(train_set))\n",
    "avg_length"
   ]
  },
  {
   "cell_type": "code",
   "execution_count": 18,
   "id": "2e5375ce-bb19-4faa-bdd8-18e6fb9fa0ae",
   "metadata": {},
   "outputs": [],
   "source": [
    "text_vectorizer.adapt(train_sentences)\n",
    "new_df = pd.DataFrame(data = train_df)"
   ]
  },
  {
   "cell_type": "code",
   "execution_count": 19,
   "id": "4b887291-0f58-4814-b49c-bc3df95e0ba1",
   "metadata": {},
   "outputs": [],
   "source": [
    "words = text_vectorizer.get_vocabulary()"
   ]
  },
  {
   "cell_type": "code",
   "execution_count": 20,
   "id": "510bfe14-0b57-4a69-b166-3ec72f24f21a",
   "metadata": {},
   "outputs": [],
   "source": [
    "from tensorflow.keras.layers import Embedding"
   ]
  },
  {
   "cell_type": "code",
   "execution_count": 21,
   "id": "f110e8af-dbe5-4c1e-96b1-a5de60d30ab8",
   "metadata": {},
   "outputs": [
    {
     "data": {
      "text/plain": [
       "<tf.Tensor: shape=(45000, 111), dtype=int64, numpy=\n",
       "array([[   20,   138,     3, ...,     0,     0,     0],\n",
       "       [18256,  6520,  1548, ...,   112,     1, 16892],\n",
       "       [   29,   629,     3, ...,     0,     0,     0],\n",
       "       ...,\n",
       "       [ 3543,    27,   139, ..., 10137,  6863,    18],\n",
       "       [    4,    15,     5, ...,     0,     0,     0],\n",
       "       [   20,  4892,    73, ...,     0,     0,     0]])>"
      ]
     },
     "execution_count": 21,
     "metadata": {},
     "output_type": "execute_result"
    }
   ],
   "source": [
    "max_vocab_length = 20000\n",
    "\n",
    "text_vectorizer = TextVectorization(max_tokens=max_vocab_length,\n",
    "                                    output_mode=\"int\",\n",
    "                                    output_sequence_length=avg_length)\n",
    "\n",
    "text_vectorizer.adapt(train_set['Body'])\n",
    "\n",
    "text_vectorizer(train_set['Body'])"
   ]
  },
  {
   "cell_type": "code",
   "execution_count": 22,
   "id": "7bd91cb8-6161-46c2-9e56-131561d6b461",
   "metadata": {},
   "outputs": [
    {
     "name": "stderr",
     "output_type": "stream",
     "text": [
      "2021-12-13 12:01:32.075857: W tensorflow/core/framework/cpu_allocator_impl.cc:82] Allocation of 2557440000 exceeds 10% of free system memory.\n"
     ]
    },
    {
     "data": {
      "text/plain": [
       "<tf.Tensor: shape=(45000, 111, 128), dtype=float32, numpy=\n",
       "array([[[ 0.04996167,  0.01361753,  0.03604818, ...,  0.0222998 ,\n",
       "         -0.00358267,  0.00627307],\n",
       "        [ 0.00773716,  0.03048385, -0.04259297, ...,  0.00117772,\n",
       "          0.03735575, -0.02950165],\n",
       "        [ 0.00183811, -0.03810859, -0.04759128, ..., -0.02788651,\n",
       "          0.00627958,  0.04327207],\n",
       "        ...,\n",
       "        [-0.03702985, -0.03786867, -0.00538582, ...,  0.04158168,\n",
       "          0.03826476, -0.0184123 ],\n",
       "        [-0.03702985, -0.03786867, -0.00538582, ...,  0.04158168,\n",
       "          0.03826476, -0.0184123 ],\n",
       "        [-0.03702985, -0.03786867, -0.00538582, ...,  0.04158168,\n",
       "          0.03826476, -0.0184123 ]],\n",
       "\n",
       "       [[ 0.00515758, -0.00813674,  0.04201993, ..., -0.04290581,\n",
       "          0.02706405, -0.00508337],\n",
       "        [-0.03906371, -0.02088499,  0.04849618, ..., -0.01512618,\n",
       "          0.02137106,  0.01337464],\n",
       "        [ 0.04508109,  0.04796636, -0.04545671, ...,  0.03655381,\n",
       "         -0.04055475, -0.04701228],\n",
       "        ...,\n",
       "        [ 0.04079637,  0.00924148, -0.03590322, ..., -0.0418879 ,\n",
       "         -0.04971854,  0.04186149],\n",
       "        [-0.0417496 ,  0.02172608, -0.02675327, ..., -0.04072937,\n",
       "          0.00283287, -0.03626304],\n",
       "        [-0.00779659,  0.04400403,  0.03148129, ...,  0.01045351,\n",
       "         -0.02674658,  0.00832836]],\n",
       "\n",
       "       [[ 0.00715921,  0.03272535, -0.02580606, ...,  0.03252989,\n",
       "          0.00899433,  0.03957596],\n",
       "        [-0.04950798,  0.03797581,  0.00199387, ..., -0.00354172,\n",
       "          0.03318587, -0.0426489 ],\n",
       "        [ 0.00183811, -0.03810859, -0.04759128, ..., -0.02788651,\n",
       "          0.00627958,  0.04327207],\n",
       "        ...,\n",
       "        [-0.03702985, -0.03786867, -0.00538582, ...,  0.04158168,\n",
       "          0.03826476, -0.0184123 ],\n",
       "        [-0.03702985, -0.03786867, -0.00538582, ...,  0.04158168,\n",
       "          0.03826476, -0.0184123 ],\n",
       "        [-0.03702985, -0.03786867, -0.00538582, ...,  0.04158168,\n",
       "          0.03826476, -0.0184123 ]],\n",
       "\n",
       "       ...,\n",
       "\n",
       "       [[ 0.0126857 , -0.04103462,  0.03017915, ...,  0.04828357,\n",
       "         -0.02810723, -0.04578532],\n",
       "        [-0.04450196, -0.01734497,  0.02310372, ..., -0.04061212,\n",
       "          0.01607496,  0.01446506],\n",
       "        [ 0.02675389, -0.04013301,  0.03404862, ...,  0.02709628,\n",
       "         -0.02163445, -0.00479748],\n",
       "        ...,\n",
       "        [ 0.03845913, -0.02220461,  0.0473913 , ..., -0.03064483,\n",
       "          0.02487249,  0.01987699],\n",
       "        [-0.01201094,  0.00034064, -0.04168319, ..., -0.01106067,\n",
       "         -0.01825278,  0.00312605],\n",
       "        [-0.03426154, -0.00414289, -0.04243698, ..., -0.02737956,\n",
       "          0.0226961 , -0.00285784]],\n",
       "\n",
       "       [[ 0.0244456 , -0.02479987,  0.0388655 , ..., -0.03699655,\n",
       "         -0.01395109, -0.03253569],\n",
       "        [-0.01576002, -0.02926984,  0.00989652, ...,  0.03707827,\n",
       "         -0.00606006, -0.04027497],\n",
       "        [-0.04712936,  0.03736964,  0.04749551, ..., -0.0071037 ,\n",
       "          0.03285135,  0.01378002],\n",
       "        ...,\n",
       "        [-0.03702985, -0.03786867, -0.00538582, ...,  0.04158168,\n",
       "          0.03826476, -0.0184123 ],\n",
       "        [-0.03702985, -0.03786867, -0.00538582, ...,  0.04158168,\n",
       "          0.03826476, -0.0184123 ],\n",
       "        [-0.03702985, -0.03786867, -0.00538582, ...,  0.04158168,\n",
       "          0.03826476, -0.0184123 ]],\n",
       "\n",
       "       [[ 0.04996167,  0.01361753,  0.03604818, ...,  0.0222998 ,\n",
       "         -0.00358267,  0.00627307],\n",
       "        [-0.03060601,  0.02294287, -0.03726902, ..., -0.01156726,\n",
       "          0.04794239,  0.00533093],\n",
       "        [ 0.01117653,  0.03434661, -0.03337225, ..., -0.01654612,\n",
       "         -0.00487417,  0.02058885],\n",
       "        ...,\n",
       "        [-0.03702985, -0.03786867, -0.00538582, ...,  0.04158168,\n",
       "          0.03826476, -0.0184123 ],\n",
       "        [-0.03702985, -0.03786867, -0.00538582, ...,  0.04158168,\n",
       "          0.03826476, -0.0184123 ],\n",
       "        [-0.03702985, -0.03786867, -0.00538582, ...,  0.04158168,\n",
       "          0.03826476, -0.0184123 ]]], dtype=float32)>"
      ]
     },
     "execution_count": 22,
     "metadata": {},
     "output_type": "execute_result"
    }
   ],
   "source": [
    "embedding = layers.Embedding(input_dim=max_vocab_length, \n",
    "                             output_dim=128, \n",
    "                             embeddings_initializer=\"uniform\",\n",
    "                             input_length=avg_length) \n",
    "\n",
    "embedding(text_vectorizer(train_set['Body']))"
   ]
  },
  {
   "cell_type": "code",
   "execution_count": 23,
   "id": "520a2d9e-66b6-4ded-8418-6f5686797dd7",
   "metadata": {},
   "outputs": [
    {
     "data": {
      "text/plain": [
       "Pipeline(steps=[('tfidf', TfidfVectorizer()), ('clf', MultinomialNB())])"
      ]
     },
     "execution_count": 23,
     "metadata": {},
     "output_type": "execute_result"
    }
   ],
   "source": [
    "from sklearn.feature_extraction.text import TfidfVectorizer\n",
    "from sklearn.naive_bayes import MultinomialNB\n",
    "from sklearn.pipeline import Pipeline\n",
    "\n",
    "model_0 = Pipeline([(\"tfidf\", TfidfVectorizer()), (\"clf\", MultinomialNB())])\n",
    "\n",
    "model_0.fit(train_set['Body'], train_set['Target'])"
   ]
  },
  {
   "cell_type": "code",
   "execution_count": 24,
   "id": "44cc8faf-494d-4601-b6d7-df1b8df64826",
   "metadata": {},
   "outputs": [
    {
     "name": "stdout",
     "output_type": "stream",
     "text": [
      "Our baseline model achieves an accuracy of: 68.71%\n"
     ]
    }
   ],
   "source": [
    "baseline_score = model_0.score(test_set['Body'], test_set['Target'])\n",
    "print(f\"Our baseline model achieves an accuracy of: {baseline_score*100:.2f}%\")"
   ]
  },
  {
   "cell_type": "markdown",
   "id": "00e2fc25-2539-42ee-97b8-604d7fca6ba1",
   "metadata": {},
   "source": [
    "# 4. Вирішення задачі класифікації за допомогою методу 1D Convolutional model."
   ]
  },
  {
   "cell_type": "code",
   "execution_count": 25,
   "id": "2c1763fb-1f51-490c-9afc-eef73cac300a",
   "metadata": {},
   "outputs": [],
   "source": [
    "tf.random.set_seed(49)\n",
    "\n",
    "from tensorflow.keras import layers"
   ]
  },
  {
   "cell_type": "code",
   "execution_count": 26,
   "id": "79880344-3eca-46e1-bf66-b445de814ae2",
   "metadata": {},
   "outputs": [],
   "source": [
    "model_5embedding = layers.Embedding(input_dim=10000, \n",
    "                                    output_dim=128, \n",
    "                                    embeddings_initializer=\"uniform\", \n",
    "                                    input_length=15, \n",
    "                                    name=\"embedding_5\")"
   ]
  },
  {
   "cell_type": "code",
   "execution_count": 27,
   "id": "4b4c4573-74c2-437c-8432-e27e3731df05",
   "metadata": {},
   "outputs": [],
   "source": [
    "inputs = layers.Input(shape=(1,),dtype=\"string\")\n",
    "x = text_vectorizer(inputs)\n",
    "x= model_5embedding(x)\n",
    "x= layers.Conv1D(filters=32, kernel_size=5, activation=\"relu\")(x)\n",
    "x= layers.GlobalMaxPool1D()(x)\n",
    "\n",
    "outputs=layers.Dense(1,activation=\"sigmoid\")(x)\n",
    "\n",
    "model_5 = tf.keras.Model(inputs,outputs, name=\"model_5_Conv1D\")"
   ]
  },
  {
   "cell_type": "code",
   "execution_count": 28,
   "id": "4bd00276-930c-4a76-be64-127ede2ed585",
   "metadata": {},
   "outputs": [],
   "source": [
    "model_5.compile(\n",
    "            loss=\"binary_crossentropy\", \n",
    "            optimizer=tf.keras.optimizers.Adam(), \n",
    "            metrics=[\"accuracy\"]\n",
    ")"
   ]
  },
  {
   "cell_type": "code",
   "execution_count": 29,
   "id": "68ea912b-b657-443d-b8d0-8b304b31a3f9",
   "metadata": {},
   "outputs": [
    {
     "name": "stdout",
     "output_type": "stream",
     "text": [
      "Model: \"model_5_Conv1D\"\n",
      "_________________________________________________________________\n",
      " Layer (type)                Output Shape              Param #   \n",
      "=================================================================\n",
      " input_1 (InputLayer)        [(None, 1)]               0         \n",
      "                                                                 \n",
      " text_vectorization_2 (TextV  (None, 111)              0         \n",
      " ectorization)                                                   \n",
      "                                                                 \n",
      " embedding_5 (Embedding)     (None, 111, 128)          1280000   \n",
      "                                                                 \n",
      " conv1d (Conv1D)             (None, 107, 32)           20512     \n",
      "                                                                 \n",
      " global_max_pooling1d (Globa  (None, 32)               0         \n",
      " lMaxPooling1D)                                                  \n",
      "                                                                 \n",
      " dense (Dense)               (None, 1)                 33        \n",
      "                                                                 \n",
      "=================================================================\n",
      "Total params: 1,300,545\n",
      "Trainable params: 1,300,545\n",
      "Non-trainable params: 0\n",
      "_________________________________________________________________\n"
     ]
    }
   ],
   "source": [
    "model_5.summary()"
   ]
  },
  {
   "cell_type": "code",
   "execution_count": 34,
   "id": "e1273967-c896-412e-94f4-9f41a46b1c46",
   "metadata": {},
   "outputs": [],
   "source": [
    "from tensorflow.keras import layers\n",
    "inputs = layers.Input(shape=(1,), dtype=\"string\")\n",
    "x = text_vectorizer(inputs)\n",
    "x = embedding(x)\n",
    "x = layers.GRU(128)(x)\n",
    "x = layers.Dense(128, activation=\"sigmoid\")(x) \n",
    "outputs = layers.Dense(3, activation=\"softmax\")(x)\n",
    "model_gru = tf.keras.Model(inputs, outputs, name=\"model_GRU\")"
   ]
  },
  {
   "cell_type": "code",
   "execution_count": 35,
   "id": "f93f7fb2-d38f-40bd-be63-dfdce726ca78",
   "metadata": {},
   "outputs": [],
   "source": [
    "model_gru.compile(loss=\"sparse_categorical_crossentropy\",\n",
    "                optimizer=tf.keras.optimizers.Adam(),\n",
    "                metrics=[\"accuracy\"])"
   ]
  },
  {
   "cell_type": "code",
   "execution_count": null,
   "id": "dba008d0-47dc-4fa7-b1a1-83fab8cd2fcb",
   "metadata": {},
   "outputs": [],
   "source": [
    "model_gru_history = model_gru.fit(train_set['Body'], train_set['Target'],\n",
    "                              epochs=10,\n",
    "                              validation_data=(test_set['Body'], test_set['Target']))"
   ]
  },
  {
   "cell_type": "code",
   "execution_count": null,
   "id": "a4bff023-f5fa-42bb-b19f-f14d0fded0ce",
   "metadata": {},
   "outputs": [],
   "source": [
    "model_gru_pred_probs = model_gru.predict(test_set['Body'])"
   ]
  },
  {
   "cell_type": "code",
   "execution_count": null,
   "id": "c35e6797-4759-45e0-a475-a0d124adbe7a",
   "metadata": {},
   "outputs": [],
   "source": [
    "model_gru_preds = tf.squeeze(tf.argmax(model_gru_pred_probs, axis = 1))\n",
    "model_gru_preds"
   ]
  },
  {
   "cell_type": "markdown",
   "id": "31735c1c-8e2c-4ba4-8056-20c561560cb7",
   "metadata": {},
   "source": [
    "# 5. Графічне відображення тренування моделі."
   ]
  },
  {
   "cell_type": "code",
   "execution_count": null,
   "id": "1cf7e4f9-672d-48b1-82d9-8710a702883c",
   "metadata": {},
   "outputs": [],
   "source": [
    "from matplotlib import pyplot as plt\n",
    "\n",
    "def plot_history(history): \n",
    "    plt.plot(history.history['accuracy'])\n",
    "    plt.plot(history.history['val_accuracy'])\n",
    "    plt.title('model accuracy')\n",
    "    plt.ylabel('accuracy')\n",
    "    plt.xlabel('epoch')\n",
    "    plt.legend(['train', 'test'], loc='upper left')\n",
    "    plt.show()\n",
    "    plt.plot(history.history['loss'])\n",
    "    plt.plot(history.history['val_loss'])\n",
    "    plt.title('model loss')\n",
    "    plt.ylabel('loss')\n",
    "    plt.xlabel('epoch')\n",
    "    plt.legend(['train', 'test'], loc='upper left')\n",
    "    plt.show()"
   ]
  }
 ],
 "metadata": {
  "kernelspec": {
   "display_name": "Python 3 (ipykernel)",
   "language": "python",
   "name": "python3"
  },
  "language_info": {
   "codemirror_mode": {
    "name": "ipython",
    "version": 3
   },
   "file_extension": ".py",
   "mimetype": "text/x-python",
   "name": "python",
   "nbconvert_exporter": "python",
   "pygments_lexer": "ipython3",
   "version": "3.8.10"
  }
 },
 "nbformat": 4,
 "nbformat_minor": 5
}
